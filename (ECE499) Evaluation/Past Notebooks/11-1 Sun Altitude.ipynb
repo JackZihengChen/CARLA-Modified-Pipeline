{
 "cells": [
  {
   "cell_type": "code",
   "execution_count": 4,
   "id": "f40a81d2",
   "metadata": {
    "scrolled": true
   },
   "outputs": [],
   "source": [
    "import os\n",
    "import pandas as pd\n",
    "import numpy as np\n",
    "import matplotlib.pyplot as plt\n",
    "# %matplotlib inline\n",
    "import scipy.stats\n",
    "from scipy.stats import norm, binom, poisson\n",
    "from dtaidistance import dtw\n",
    "\n",
    "import json"
   ]
  },
  {
   "cell_type": "markdown",
   "id": "131b6d23",
   "metadata": {},
   "source": [
    "### Changing sun-altitude\n",
    "- $3^{\\circ}$\n",
    "- $1^{\\circ}$\n",
    "- $-1^{\\circ}$\n",
    "- $-3^{\\circ}$\n",
    "- $-5^{\\circ}$"
   ]
  },
  {
   "cell_type": "markdown",
   "id": "1433e623",
   "metadata": {},
   "source": [
    "### Layered folders, parse into 2d lists of dicts"
   ]
  },
  {
   "cell_type": "code",
   "execution_count": 5,
   "id": "19f949b9",
   "metadata": {
    "scrolled": true
   },
   "outputs": [],
   "source": [
    "import os\n",
    "\n",
    "txt_lists = [[], [], [], [], []]\n",
    "\n",
    "for root, dirs, files in os.walk(\"./Simulations_Sun_Alt/route_highway_epoch24_clear-3\"):\n",
    "    for file in files:\n",
    "        if file.endswith(\".txt\"):\n",
    "             with open(os.path.join(root, file), encoding = 'utf-8') as f:\n",
    "                read_string = f.read()\n",
    "                json_object = json.loads(read_string)\n",
    "                txt_lists[0].append(json_object)\n",
    "                \n",
    "for root, dirs, files in os.walk(\"./Simulations_Sun_Alt/route_highway_epoch24_clear-1\"):\n",
    "    for file in files:\n",
    "        if file.endswith(\".txt\"):\n",
    "             with open(os.path.join(root, file), encoding = 'utf-8') as f:\n",
    "                read_string = f.read()\n",
    "                json_object = json.loads(read_string)\n",
    "                txt_lists[1].append(json_object)\n",
    "                \n",
    "for root, dirs, files in os.walk(\"./Simulations_Sun_Alt/route_highway_epoch24_clear--1\"):\n",
    "    for file in files:\n",
    "        if file.endswith(\".txt\"):\n",
    "             with open(os.path.join(root, file), encoding = 'utf-8') as f:\n",
    "                read_string = f.read()\n",
    "                json_object = json.loads(read_string)\n",
    "                txt_lists[2].append(json_object)\n",
    "                \n",
    "for root, dirs, files in os.walk(\"./Simulations_Sun_Alt/route_highway_epoch24_clear--3\"):\n",
    "    for file in files:\n",
    "        if file.endswith(\".txt\"):\n",
    "             with open(os.path.join(root, file), encoding = 'utf-8') as f:\n",
    "                read_string = f.read()\n",
    "                json_object = json.loads(read_string)\n",
    "                txt_lists[3].append(json_object)\n",
    "                \n",
    "for root, dirs, files in os.walk(\"./Simulations_Sun_Alt/route_highway_epoch24_clear-night\"):\n",
    "    for file in files:\n",
    "        if file.endswith(\".txt\"):\n",
    "             with open(os.path.join(root, file), encoding = 'utf-8') as f:\n",
    "                read_string = f.read()\n",
    "                json_object = json.loads(read_string)\n",
    "                txt_lists[4].append(json_object)"
   ]
  },
  {
   "cell_type": "markdown",
   "id": "7f0738de",
   "metadata": {},
   "source": [
    "### Examining results"
   ]
  },
  {
   "cell_type": "code",
   "execution_count": 7,
   "id": "406d31aa",
   "metadata": {
    "scrolled": true
   },
   "outputs": [
    {
     "name": "stdout",
     "output_type": "stream",
     "text": [
      "[1.0, 1.0, 1.0, 1.0, 1.0]\n"
     ]
    }
   ],
   "source": [
    "count_array = []\n",
    "for txt_list in txt_lists:\n",
    "    count = 0\n",
    "    for txt in txt_list:\n",
    "        if txt['_checkpoint']['records'][0]['status'] == 'Completed':\n",
    "            count += 1\n",
    "    count_array.append(count/50)\n",
    "    \n",
    "print(count_array)"
   ]
  },
  {
   "cell_type": "code",
   "execution_count": 15,
   "id": "3ef2e8ec",
   "metadata": {
    "scrolled": true
   },
   "outputs": [
    {
     "name": "stdout",
     "output_type": "stream",
     "text": [
      "[1.0, 1.0, 1.0, 0.98, 0.3]\n"
     ]
    }
   ],
   "source": [
    "count_array = []\n",
    "for txt_list in txt_lists:\n",
    "    count = 0\n",
    "    for txt in txt_list:\n",
    "        if not txt['_checkpoint']['records'][0]['infractions']['outside_route_lanes']:\n",
    "            count += 1\n",
    "#         else:\n",
    "#             print(txt_list.index(txt))\n",
    "    count_array.append(count/50)\n",
    "    \n",
    "print(count_array)"
   ]
  }
 ],
 "metadata": {
  "kernelspec": {
   "display_name": "Python 3 (ipykernel)",
   "language": "python",
   "name": "python3"
  },
  "language_info": {
   "codemirror_mode": {
    "name": "ipython",
    "version": 3
   },
   "file_extension": ".py",
   "mimetype": "text/x-python",
   "name": "python",
   "nbconvert_exporter": "python",
   "pygments_lexer": "ipython3",
   "version": "3.9.13"
  }
 },
 "nbformat": 4,
 "nbformat_minor": 5
}
